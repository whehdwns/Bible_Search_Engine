{
 "cells": [
  {
   "cell_type": "code",
   "execution_count": 1,
   "id": "d52a6cdd",
   "metadata": {},
   "outputs": [
    {
     "name": "stderr",
     "output_type": "stream",
     "text": [
      "[nltk_data] Downloading package stopwords to\n",
      "[nltk_data]     C:\\Users\\dongj\\AppData\\Roaming\\nltk_data...\n",
      "[nltk_data]   Package stopwords is already up-to-date!\n"
     ]
    }
   ],
   "source": [
    "import nltk\n",
    "from nltk.tokenize import RegexpTokenizer\n",
    "from collections import Counter, defaultdict, OrderedDict\n",
    "import re\n",
    "import sys\n",
    "import os\n",
    "import math\n",
    "import string\n",
    "import time\n",
    "import operator\n",
    "from itertools import islice\n",
    "from functools import reduce\n",
    "nltk.download('stopwords')\n",
    "\n",
    "import pickle\n",
    "\n",
    "import warnings\n",
    "warnings.filterwarnings(\"ignore\")"
   ]
  },
  {
   "cell_type": "code",
   "execution_count": 2,
   "id": "101881f6",
   "metadata": {},
   "outputs": [],
   "source": [
    "book_content_w_ch =[]\n",
    "with open('kjv.txt') as f:\n",
    "    next(f)\n",
    "    for line in f:\n",
    "        book_content_w_ch.append(line)"
   ]
  },
  {
   "cell_type": "code",
   "execution_count": 3,
   "id": "42e6589d",
   "metadata": {},
   "outputs": [],
   "source": [
    "book_content =[]\n",
    "for i in book_content_w_ch:\n",
    "    book_content.append(i.replace(i.split(' ')[0], ''))"
   ]
  },
  {
   "cell_type": "code",
   "execution_count": 4,
   "id": "68989977",
   "metadata": {},
   "outputs": [],
   "source": [
    "def normalization(word):\n",
    "    word= word.lower()\n",
    "    word = word.replace('\\n','')\n",
    "    word  = re.sub(r'[^\\w\\s]', '', word)\n",
    "    word = re.sub('[0-9]', '', word)\n",
    "    return word"
   ]
  },
  {
   "cell_type": "code",
   "execution_count": 5,
   "id": "8315756b",
   "metadata": {},
   "outputs": [],
   "source": [
    "def preprocess(data):\n",
    "    result = []\n",
    "    for line in data:\n",
    "        word = normalization(line)\n",
    "        word = word.lower().strip().split()\n",
    "        stopwords = nltk.corpus.stopwords.words(\"english\")\n",
    "        word = [w for w in word if not w in stopwords]\n",
    "        word = \" \".join(word)\n",
    "        result.append(word)\n",
    "    return result"
   ]
  },
  {
   "cell_type": "code",
   "execution_count": 6,
   "id": "ef19788d",
   "metadata": {},
   "outputs": [],
   "source": [
    "with open('pickle_set/book_norm_text.pickle', 'rb') as f:\n",
    "    book_normalized_text = pickle.load(f)\n",
    "\n",
    "with open('pickle_set/book_collec_freq.pickle', 'rb') as f:\n",
    "    book_collec_freq = pickle.load(f)\n",
    "\n",
    "with open('pickle_set/book_doc_freq.pickle', 'rb') as f:\n",
    "    book_doc_freq = pickle.load(f)\n",
    "    \n",
    "with open('pickle_set/book_term_freq.pickle', 'rb') as f:\n",
    "    book_term_freq = pickle.load(f)\n",
    "\n",
    "with open('pickle_set/book_dict_pos_output.pickle', 'rb') as f:\n",
    "    book_dict_pos_output = pickle.load(f)"
   ]
  },
  {
   "cell_type": "code",
   "execution_count": 7,
   "id": "31dd24b4",
   "metadata": {},
   "outputs": [],
   "source": [
    "collection=[]\n",
    "for i,j in book_collec_freq.items():\n",
    "    collection.append(j)\n",
    "collection_size = sum(collection)"
   ]
  },
  {
   "cell_type": "code",
   "execution_count": 8,
   "id": "71501b8a",
   "metadata": {},
   "outputs": [],
   "source": [
    "collection_model =[]\n",
    "for i in book_collec_freq.values():\n",
    "    collection_model.append(i/collection_size)"
   ]
  },
  {
   "cell_type": "code",
   "execution_count": 9,
   "id": "698f9875",
   "metadata": {},
   "outputs": [],
   "source": [
    "q_doc=[]\n",
    "for i,j in book_term_freq.items():\n",
    "    q_mix=[]\n",
    "    for k in book_collec_freq:\n",
    "        if k not in j:\n",
    "            q_mix.append(0)\n",
    "        else:\n",
    "            q_mix.append(j[k]/sum(book_term_freq[i].values()))\n",
    "    q_doc.append(q_mix)"
   ]
  },
  {
   "cell_type": "code",
   "execution_count": 10,
   "id": "9a2330d6",
   "metadata": {},
   "outputs": [],
   "source": [
    "lambda_val = 0.4"
   ]
  },
  {
   "cell_type": "code",
   "execution_count": 11,
   "id": "06760a52",
   "metadata": {},
   "outputs": [],
   "source": [
    "lamb_tz =[]\n",
    "for i in q_doc:\n",
    "    tz =[]\n",
    "    for j in range(len(i)):\n",
    "        tz.append(lambda_val*i[j] + (1-lambda_val)*collection_model[j])\n",
    "    lamb_tz.append(tz)"
   ]
  },
  {
   "cell_type": "code",
   "execution_count": 12,
   "id": "0d7a953b",
   "metadata": {},
   "outputs": [],
   "source": [
    "query= ['Jesus saves us']"
   ]
  },
  {
   "cell_type": "code",
   "execution_count": 13,
   "id": "bf2fca00",
   "metadata": {},
   "outputs": [],
   "source": [
    "query_content = preprocess(query)"
   ]
  },
  {
   "cell_type": "code",
   "execution_count": 14,
   "id": "08333ff0",
   "metadata": {},
   "outputs": [],
   "source": [
    "query_mix = [0]*len(book_collec_freq.keys())"
   ]
  },
  {
   "cell_type": "code",
   "execution_count": 15,
   "id": "a0696863",
   "metadata": {},
   "outputs": [],
   "source": [
    "for i in range(len(book_collec_freq.keys())):\n",
    "    for j in query_content[0].split():\n",
    "        if list(book_collec_freq.keys())[i] == j:\n",
    "            query_mix[i]+=1"
   ]
  },
  {
   "cell_type": "code",
   "execution_count": 16,
   "id": "c60c591a",
   "metadata": {},
   "outputs": [],
   "source": [
    "mixture_doc = []\n",
    "for i in lamb_tz:\n",
    "    mixture = []\n",
    "    for a,b in zip(i,query_mix):\n",
    "        if b != 0:\n",
    "            mixture.append(a**b)\n",
    "    mixture_doc.append(mixture)"
   ]
  },
  {
   "cell_type": "code",
   "execution_count": 17,
   "id": "48f8c694",
   "metadata": {},
   "outputs": [],
   "source": [
    "result =[]\n",
    "for i in range(len(mixture_doc)):\n",
    "    result.append([i, reduce(lambda x, y: x*y, mixture_doc[i])])"
   ]
  },
  {
   "cell_type": "code",
   "execution_count": 18,
   "id": "b2ae6851",
   "metadata": {},
   "outputs": [],
   "source": [
    "result.sort(key=lambda x: x[1], reverse=True)"
   ]
  },
  {
   "cell_type": "code",
   "execution_count": 23,
   "id": "23fdbf93",
   "metadata": {},
   "outputs": [
    {
     "name": "stdout",
     "output_type": "stream",
     "text": [
      "['jesus saves us']\n"
     ]
    }
   ],
   "source": [
    "print(query_content)"
   ]
  },
  {
   "cell_type": "code",
   "execution_count": 22,
   "id": "41637a6b",
   "metadata": {},
   "outputs": [
    {
     "name": "stdout",
     "output_type": "stream",
     "text": [
      "Luke9:50 And Jesus said unto him, Forbid him not: for he that is not against us is for us.\n",
      "\n",
      "2Cor4:14 Knowing that he which raised up the Lord Jesus shall raise up us also by Jesus, and shall present us with you.\n",
      "\n",
      "Titus3:6 Which he shed on us abundantly through Jesus Christ our Saviour;\n",
      "\n",
      "Luke17:13 And they lifted up their voices, and said, Jesus, Master, have mercy on us.\n",
      "\n",
      "Acts1:21 Wherefore of these men which have companied with us all the time that the Lord Jesus went in and out among us,\n",
      "\n",
      "1Cor15:57 But thanks be to God, which giveth us the victory through our Lord Jesus Christ.\n",
      "\n",
      "2Cor5:18 And all things are of God, who hath reconciled us to himself by Jesus Christ, and hath given to us the ministry of reconciliation;\n",
      "\n",
      "Eph2:6 And hath raised us up together, and made us sit together in heavenly places in Christ Jesus:\n",
      "\n",
      "Rom4:24 But for us also, to whom it shall be imputed, if we believe on him that raised up Jesus our Lord from the dead;\n",
      "\n",
      "Rom6:3 Know ye not, that so many of us as were baptized into Jesus Christ were baptized into his death?\n",
      "\n"
     ]
    }
   ],
   "source": [
    "for i in result[:10]:\n",
    "    print(book_content_w_ch[i[0]])"
   ]
  },
  {
   "cell_type": "code",
   "execution_count": null,
   "id": "f7130c10",
   "metadata": {},
   "outputs": [],
   "source": []
  },
  {
   "cell_type": "code",
   "execution_count": null,
   "id": "8bff9ad7",
   "metadata": {},
   "outputs": [],
   "source": []
  }
 ],
 "metadata": {
  "kernelspec": {
   "display_name": "Python 3 (ipykernel)",
   "language": "python",
   "name": "python3"
  },
  "language_info": {
   "codemirror_mode": {
    "name": "ipython",
    "version": 3
   },
   "file_extension": ".py",
   "mimetype": "text/x-python",
   "name": "python",
   "nbconvert_exporter": "python",
   "pygments_lexer": "ipython3",
   "version": "3.10.9"
  }
 },
 "nbformat": 4,
 "nbformat_minor": 5
}
